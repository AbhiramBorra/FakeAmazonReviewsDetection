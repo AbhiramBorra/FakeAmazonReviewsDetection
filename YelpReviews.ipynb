{
  "nbformat": 4,
  "nbformat_minor": 0,
  "metadata": {
    "colab": {
      "provenance": [],
      "include_colab_link": true
    },
    "kernelspec": {
      "name": "python3",
      "display_name": "Python 3"
    },
    "language_info": {
      "name": "python"
    }
  },
  "cells": [
    {
      "cell_type": "markdown",
      "metadata": {
        "id": "view-in-github",
        "colab_type": "text"
      },
      "source": [
        "<a href=\"https://colab.research.google.com/github/AbhiramBorra/FakeAmazonReviewsDetection/blob/main/YelpReviews.ipynb\" target=\"_parent\"><img src=\"https://colab.research.google.com/assets/colab-badge.svg\" alt=\"Open In Colab\"/></a>"
      ]
    },
    {
      "cell_type": "code",
      "source": [
        "'''\n",
        "We are integrating the Google Drive into the Colab environment system.\n",
        "'''\n",
        "# Mount Google Drive\n",
        "from google.colab import drive\n",
        "drive.mount('/content/drive')"
      ],
      "metadata": {
        "id": "rrykOda5fdJb",
        "colab": {
          "base_uri": "https://localhost:8080/"
        },
        "outputId": "cd6abbe1-9069-4240-ce97-e97520299a00"
      },
      "execution_count": null,
      "outputs": [
        {
          "output_type": "stream",
          "name": "stdout",
          "text": [
            "Drive already mounted at /content/drive; to attempt to forcibly remount, call drive.mount(\"/content/drive\", force_remount=True).\n"
          ]
        }
      ]
    },
    {
      "cell_type": "code",
      "source": [
        "# Imports\n",
        "import pandas as pd\n",
        "import numpy as np\n",
        "import matplotlib.pyplot as plt\n",
        "import seaborn as sns\n",
        "import re\n",
        "import nltk\n",
        "import pylab as pl\n",
        "from sklearn.model_selection import train_test_split\n",
        "from pandas import *"
      ],
      "metadata": {
        "id": "-fxMldW_OKFN"
      },
      "execution_count": 76,
      "outputs": []
    },
    {
      "cell_type": "code",
      "execution_count": 77,
      "metadata": {
        "colab": {
          "base_uri": "https://localhost:8080/",
          "height": 206
        },
        "id": "hPVR-jOcRjta",
        "outputId": "bb90dd7e-1cc0-4286-f21b-1dece93d6611"
      },
      "outputs": [
        {
          "output_type": "execute_result",
          "data": {
            "text/plain": [
              "   Rating                                             Review  Real\n",
              "0       3  The food at snack is a selection of popular Gr...     0\n",
              "1       3  This little place in Soho is wonderful. I had ...     0\n",
              "2       4  ordered lunch for 15 from Snack last Friday. Â...     0\n",
              "3       4  This is a beautiful quaint little restaurant o...     0\n",
              "4       4  Snack is great place for a Â casual sit down l...     0"
            ],
            "text/html": [
              "\n",
              "  <div id=\"df-53b9650d-65f6-4802-b2f0-c62199f5109a\" class=\"colab-df-container\">\n",
              "    <div>\n",
              "<style scoped>\n",
              "    .dataframe tbody tr th:only-of-type {\n",
              "        vertical-align: middle;\n",
              "    }\n",
              "\n",
              "    .dataframe tbody tr th {\n",
              "        vertical-align: top;\n",
              "    }\n",
              "\n",
              "    .dataframe thead th {\n",
              "        text-align: right;\n",
              "    }\n",
              "</style>\n",
              "<table border=\"1\" class=\"dataframe\">\n",
              "  <thead>\n",
              "    <tr style=\"text-align: right;\">\n",
              "      <th></th>\n",
              "      <th>Rating</th>\n",
              "      <th>Review</th>\n",
              "      <th>Real</th>\n",
              "    </tr>\n",
              "  </thead>\n",
              "  <tbody>\n",
              "    <tr>\n",
              "      <th>0</th>\n",
              "      <td>3</td>\n",
              "      <td>The food at snack is a selection of popular Gr...</td>\n",
              "      <td>0</td>\n",
              "    </tr>\n",
              "    <tr>\n",
              "      <th>1</th>\n",
              "      <td>3</td>\n",
              "      <td>This little place in Soho is wonderful. I had ...</td>\n",
              "      <td>0</td>\n",
              "    </tr>\n",
              "    <tr>\n",
              "      <th>2</th>\n",
              "      <td>4</td>\n",
              "      <td>ordered lunch for 15 from Snack last Friday. Â...</td>\n",
              "      <td>0</td>\n",
              "    </tr>\n",
              "    <tr>\n",
              "      <th>3</th>\n",
              "      <td>4</td>\n",
              "      <td>This is a beautiful quaint little restaurant o...</td>\n",
              "      <td>0</td>\n",
              "    </tr>\n",
              "    <tr>\n",
              "      <th>4</th>\n",
              "      <td>4</td>\n",
              "      <td>Snack is great place for a Â casual sit down l...</td>\n",
              "      <td>0</td>\n",
              "    </tr>\n",
              "  </tbody>\n",
              "</table>\n",
              "</div>\n",
              "    <div class=\"colab-df-buttons\">\n",
              "\n",
              "  <div class=\"colab-df-container\">\n",
              "    <button class=\"colab-df-convert\" onclick=\"convertToInteractive('df-53b9650d-65f6-4802-b2f0-c62199f5109a')\"\n",
              "            title=\"Convert this dataframe to an interactive table.\"\n",
              "            style=\"display:none;\">\n",
              "\n",
              "  <svg xmlns=\"http://www.w3.org/2000/svg\" height=\"24px\" viewBox=\"0 -960 960 960\">\n",
              "    <path d=\"M120-120v-720h720v720H120Zm60-500h600v-160H180v160Zm220 220h160v-160H400v160Zm0 220h160v-160H400v160ZM180-400h160v-160H180v160Zm440 0h160v-160H620v160ZM180-180h160v-160H180v160Zm440 0h160v-160H620v160Z\"/>\n",
              "  </svg>\n",
              "    </button>\n",
              "\n",
              "  <style>\n",
              "    .colab-df-container {\n",
              "      display:flex;\n",
              "      gap: 12px;\n",
              "    }\n",
              "\n",
              "    .colab-df-convert {\n",
              "      background-color: #E8F0FE;\n",
              "      border: none;\n",
              "      border-radius: 50%;\n",
              "      cursor: pointer;\n",
              "      display: none;\n",
              "      fill: #1967D2;\n",
              "      height: 32px;\n",
              "      padding: 0 0 0 0;\n",
              "      width: 32px;\n",
              "    }\n",
              "\n",
              "    .colab-df-convert:hover {\n",
              "      background-color: #E2EBFA;\n",
              "      box-shadow: 0px 1px 2px rgba(60, 64, 67, 0.3), 0px 1px 3px 1px rgba(60, 64, 67, 0.15);\n",
              "      fill: #174EA6;\n",
              "    }\n",
              "\n",
              "    .colab-df-buttons div {\n",
              "      margin-bottom: 4px;\n",
              "    }\n",
              "\n",
              "    [theme=dark] .colab-df-convert {\n",
              "      background-color: #3B4455;\n",
              "      fill: #D2E3FC;\n",
              "    }\n",
              "\n",
              "    [theme=dark] .colab-df-convert:hover {\n",
              "      background-color: #434B5C;\n",
              "      box-shadow: 0px 1px 3px 1px rgba(0, 0, 0, 0.15);\n",
              "      filter: drop-shadow(0px 1px 2px rgba(0, 0, 0, 0.3));\n",
              "      fill: #FFFFFF;\n",
              "    }\n",
              "  </style>\n",
              "\n",
              "    <script>\n",
              "      const buttonEl =\n",
              "        document.querySelector('#df-53b9650d-65f6-4802-b2f0-c62199f5109a button.colab-df-convert');\n",
              "      buttonEl.style.display =\n",
              "        google.colab.kernel.accessAllowed ? 'block' : 'none';\n",
              "\n",
              "      async function convertToInteractive(key) {\n",
              "        const element = document.querySelector('#df-53b9650d-65f6-4802-b2f0-c62199f5109a');\n",
              "        const dataTable =\n",
              "          await google.colab.kernel.invokeFunction('convertToInteractive',\n",
              "                                                    [key], {});\n",
              "        if (!dataTable) return;\n",
              "\n",
              "        const docLinkHtml = 'Like what you see? Visit the ' +\n",
              "          '<a target=\"_blank\" href=https://colab.research.google.com/notebooks/data_table.ipynb>data table notebook</a>'\n",
              "          + ' to learn more about interactive tables.';\n",
              "        element.innerHTML = '';\n",
              "        dataTable['output_type'] = 'display_data';\n",
              "        await google.colab.output.renderOutput(dataTable, element);\n",
              "        const docLink = document.createElement('div');\n",
              "        docLink.innerHTML = docLinkHtml;\n",
              "        element.appendChild(docLink);\n",
              "      }\n",
              "    </script>\n",
              "  </div>\n",
              "\n",
              "\n",
              "<div id=\"df-92371bf0-9b8b-4b59-9cf8-57a01ffa92e4\">\n",
              "  <button class=\"colab-df-quickchart\" onclick=\"quickchart('df-92371bf0-9b8b-4b59-9cf8-57a01ffa92e4')\"\n",
              "            title=\"Suggest charts.\"\n",
              "            style=\"display:none;\">\n",
              "\n",
              "<svg xmlns=\"http://www.w3.org/2000/svg\" height=\"24px\"viewBox=\"0 0 24 24\"\n",
              "     width=\"24px\">\n",
              "    <g>\n",
              "        <path d=\"M19 3H5c-1.1 0-2 .9-2 2v14c0 1.1.9 2 2 2h14c1.1 0 2-.9 2-2V5c0-1.1-.9-2-2-2zM9 17H7v-7h2v7zm4 0h-2V7h2v10zm4 0h-2v-4h2v4z\"/>\n",
              "    </g>\n",
              "</svg>\n",
              "  </button>\n",
              "\n",
              "<style>\n",
              "  .colab-df-quickchart {\n",
              "      --bg-color: #E8F0FE;\n",
              "      --fill-color: #1967D2;\n",
              "      --hover-bg-color: #E2EBFA;\n",
              "      --hover-fill-color: #174EA6;\n",
              "      --disabled-fill-color: #AAA;\n",
              "      --disabled-bg-color: #DDD;\n",
              "  }\n",
              "\n",
              "  [theme=dark] .colab-df-quickchart {\n",
              "      --bg-color: #3B4455;\n",
              "      --fill-color: #D2E3FC;\n",
              "      --hover-bg-color: #434B5C;\n",
              "      --hover-fill-color: #FFFFFF;\n",
              "      --disabled-bg-color: #3B4455;\n",
              "      --disabled-fill-color: #666;\n",
              "  }\n",
              "\n",
              "  .colab-df-quickchart {\n",
              "    background-color: var(--bg-color);\n",
              "    border: none;\n",
              "    border-radius: 50%;\n",
              "    cursor: pointer;\n",
              "    display: none;\n",
              "    fill: var(--fill-color);\n",
              "    height: 32px;\n",
              "    padding: 0;\n",
              "    width: 32px;\n",
              "  }\n",
              "\n",
              "  .colab-df-quickchart:hover {\n",
              "    background-color: var(--hover-bg-color);\n",
              "    box-shadow: 0 1px 2px rgba(60, 64, 67, 0.3), 0 1px 3px 1px rgba(60, 64, 67, 0.15);\n",
              "    fill: var(--button-hover-fill-color);\n",
              "  }\n",
              "\n",
              "  .colab-df-quickchart-complete:disabled,\n",
              "  .colab-df-quickchart-complete:disabled:hover {\n",
              "    background-color: var(--disabled-bg-color);\n",
              "    fill: var(--disabled-fill-color);\n",
              "    box-shadow: none;\n",
              "  }\n",
              "\n",
              "  .colab-df-spinner {\n",
              "    border: 2px solid var(--fill-color);\n",
              "    border-color: transparent;\n",
              "    border-bottom-color: var(--fill-color);\n",
              "    animation:\n",
              "      spin 1s steps(1) infinite;\n",
              "  }\n",
              "\n",
              "  @keyframes spin {\n",
              "    0% {\n",
              "      border-color: transparent;\n",
              "      border-bottom-color: var(--fill-color);\n",
              "      border-left-color: var(--fill-color);\n",
              "    }\n",
              "    20% {\n",
              "      border-color: transparent;\n",
              "      border-left-color: var(--fill-color);\n",
              "      border-top-color: var(--fill-color);\n",
              "    }\n",
              "    30% {\n",
              "      border-color: transparent;\n",
              "      border-left-color: var(--fill-color);\n",
              "      border-top-color: var(--fill-color);\n",
              "      border-right-color: var(--fill-color);\n",
              "    }\n",
              "    40% {\n",
              "      border-color: transparent;\n",
              "      border-right-color: var(--fill-color);\n",
              "      border-top-color: var(--fill-color);\n",
              "    }\n",
              "    60% {\n",
              "      border-color: transparent;\n",
              "      border-right-color: var(--fill-color);\n",
              "    }\n",
              "    80% {\n",
              "      border-color: transparent;\n",
              "      border-right-color: var(--fill-color);\n",
              "      border-bottom-color: var(--fill-color);\n",
              "    }\n",
              "    90% {\n",
              "      border-color: transparent;\n",
              "      border-bottom-color: var(--fill-color);\n",
              "    }\n",
              "  }\n",
              "</style>\n",
              "\n",
              "  <script>\n",
              "    async function quickchart(key) {\n",
              "      const quickchartButtonEl =\n",
              "        document.querySelector('#' + key + ' button');\n",
              "      quickchartButtonEl.disabled = true;  // To prevent multiple clicks.\n",
              "      quickchartButtonEl.classList.add('colab-df-spinner');\n",
              "      try {\n",
              "        const charts = await google.colab.kernel.invokeFunction(\n",
              "            'suggestCharts', [key], {});\n",
              "      } catch (error) {\n",
              "        console.error('Error during call to suggestCharts:', error);\n",
              "      }\n",
              "      quickchartButtonEl.classList.remove('colab-df-spinner');\n",
              "      quickchartButtonEl.classList.add('colab-df-quickchart-complete');\n",
              "    }\n",
              "    (() => {\n",
              "      let quickchartButtonEl =\n",
              "        document.querySelector('#df-92371bf0-9b8b-4b59-9cf8-57a01ffa92e4 button');\n",
              "      quickchartButtonEl.style.display =\n",
              "        google.colab.kernel.accessAllowed ? 'block' : 'none';\n",
              "    })();\n",
              "  </script>\n",
              "</div>\n",
              "    </div>\n",
              "  </div>\n"
            ]
          },
          "metadata": {},
          "execution_count": 77
        }
      ],
      "source": [
        "'''\n",
        "In this section, we load and preprocess a CSV file dataset for data analysis\n",
        "using popular Python libraries including pandas, numpy, matplotlib.pyplot, and seaborn\n",
        "\n",
        "We use the pd.read_csv() function so that the program subsequently reads the CSV file\n",
        "into two-dimensional tabular data structure DataFrame objects namely -  df and amazonData_train\n",
        "\n",
        "We then used the df.columns attribute in order to return a list of the names of the columns.\n",
        "Finally, use the df.head() approach to produce an additional DataFrame\n",
        "containing the specified number of rows from the top.\n",
        "\n",
        "'''\n",
        "# load csv\n",
        "df = pd.read_csv\n",
        "df = pd.read_csv(\"/content/drive/Shareddrives/ECS 171 Group Project/Labelled Yelp Dataset.csv\")\n",
        "df = df.drop(columns = ['User_id', 'Product_id', 'Date'])  # Drop uneeded columns\n",
        "df['Label'].replace([-1], [0], inplace=True)\n",
        "df = df.rename(columns={\"Label\" : \"Real\"})  # Rename column\n",
        "df.head()"
      ]
    },
    {
      "cell_type": "code",
      "source": [
        "# Histogram\n",
        "histo_df = df\n",
        "histo_df.head()\n",
        "df['Real'].replace([0, 1], [\"Fake\", \"Real\"], inplace=True)\n",
        "hist = df.plot(kind=\"hist\", by=\"Real\", subplots=True, sharex=True, sharey=True, title=\"Rating Frequencies\")"
      ],
      "metadata": {
        "id": "opUswYvLOQiz",
        "outputId": "bafdf678-d304-4250-ab1d-10d882474787",
        "colab": {
          "base_uri": "https://localhost:8080/",
          "height": 478
        }
      },
      "execution_count": 78,
      "outputs": [
        {
          "output_type": "display_data",
          "data": {
            "text/plain": [
              "<Figure size 640x480 with 2 Axes>"
            ],
            "image/png": "[encoded data removed]"
          },
          "metadata": {}
        }
      ]
    },
    {
      "cell_type": "code",
      "source": [
        "'''\n",
        "\n",
        "This reads a CSV file into the pandas DataFrame and plots a heatmap of the correlation matrix\n",
        "using the sns.heatmap() function\n",
        "It also creates a color palette using the sns.diverging_palette() function which are used to display data visually\n",
        "\n",
        "'''\n",
        "\n",
        "# Matrix\n",
        "\n",
        "'''\n",
        "\n",
        "We use the pd.read_csv() function which takes the path of the CSV file\n",
        "as an argument and returns a DataFrame object\n",
        "\n",
        "We then assign the DataFrame object to a variable called df\n",
        "in order to access or modify the data\n",
        "\n",
        "\n",
        "'''\n",
        "df = pd.read_csv(\"/content/drive/Shareddrives/ECS 171 Group Project/Labelled Yelp Dataset.csv\")\n",
        "# df.drop(['id', 'dateAdded', 'dateUpdated', 'name', 'asins', 'brand',\n",
        "#        'categories', 'primaryCategories', 'imageURLs', 'keys', 'manufacturer',\n",
        "#        'manufacturerNumber', 'reviews.date', 'reviews.dateSeen',\n",
        "#        'reviews.didPurchase', 'reviews.doRecommend', 'reviews.id', 'reviews.sourceURLs', 'sourceURLs', 'reviews.numHelpful'],axis=1, inplace = True)\n",
        "\n",
        "# plots a heatmap\n",
        "cmap = sns.diverging_palette(230, 20, as_cmap = True)\n",
        "sns.heatmap(df.corr(), cmap = cmap, annot = True, vmin = -1, vmax = 1, center = 0)\n",
        "\n",
        "# non much useful informaiton found from the raw data, since they are pure text, need more study, like tf-idf to show the data in numbers.\n",
        "\n",
        "'''\n",
        "df.corr():  a method that calculates the correlation matrix of the DataFrame df.\n",
        "A correlation value where -\n",
        "-1 means a perfect negative relationship\n",
        "0 means no relationship,\n",
        "1 means a perfect positive relationship.\n",
        "\n",
        "Cmap : color map argument that tells the function what colors to use for the heatmap.\n",
        "In this case it uses the palette object thaw we created before.\n",
        "\n",
        "annot : is a  boolean argument that tells the function whether to show the values on the heatmap or not.\n",
        "\n",
        "vmin meaning the minimum value for the color scale.\n",
        "Here, vmin = -1 means that any value below -1 will be shown with the same color as -1.\n",
        "\n",
        "vmax meaning the maximum value for the color scale.\n",
        "Here, vmax = 1 means that any value above 1 will be shown with the same color as 1.\n",
        "\n",
        "Center meaning the center value for the color scale.\n",
        "Here, our center = 0 means that any value equal to 0 will be shown with a neutral color.\n",
        "\n",
        "'''\n",
        "\n",
        "\n",
        "\n",
        "'''\n",
        "\n",
        "Upon execution, the function displays the heatmap on the screen.\n",
        "\n",
        "'''"
      ],
      "metadata": {
        "id": "7BuodNu7aj1V",
        "colab": {
          "base_uri": "https://localhost:8080/",
          "height": 509
        },
        "outputId": "475d5c74-60aa-46d4-96a3-62e12d438040"
      },
      "execution_count": null,
      "outputs": [
        {
          "output_type": "stream",
          "name": "stderr",
          "text": [
            "<ipython-input-3-6dfe06e688a8>:29: FutureWarning: The default value of numeric_only in DataFrame.corr is deprecated. In a future version, it will default to False. Select only valid columns or specify the value of numeric_only to silence this warning.\n",
            "  sns.heatmap(df.corr(), cmap = cmap, annot = True, vmin = -1, vmax = 1, center = 0)\n"
          ]
        },
        {
          "output_type": "execute_result",
          "data": {
            "text/plain": [
              "'\\n\\nUpon execution, the function displays the heatmap on the screen.\\n\\n'"
            ],
            "application/vnd.google.colaboratory.intrinsic+json": {
              "type": "string"
            }
          },
          "metadata": {},
          "execution_count": 3
        },
        {
          "output_type": "display_data",
          "data": {
            "text/plain": [
              "<Figure size 640x480 with 2 Axes>"
            ],
            "image/png": "[encoded data removed]"
          },
          "metadata": {}
        }
      ]
    },
    {
      "cell_type": "code",
      "source": [
        "'''\n",
        "Reads a CSV file to a pandas DataFrame\n",
        "'''\n",
        "\n",
        "# Load data set\n",
        "\n",
        "df = pd.read_csv('/content/drive/Shareddrives/ECS 171 Group Project/Labelled Yelp Dataset.csv')\n",
        "\n",
        "# Drop non numerical data to create scatter plots\n",
        "\n",
        "'''\n",
        "\n",
        "We assign a DataFrame object to a variable called amazonData_train_numerical.\n",
        "\n",
        "'''\n",
        "\n",
        "df = df.drop(columns = ['User_id', 'Product_id', 'Date'])\n",
        "\n",
        "\n",
        "'''\n",
        "We create a pairplot to display multiple scatter plots in a grid.\n",
        "\n",
        "We use the sns.pairplot() method to build a pairplot that depicts the paired relationships\n",
        "between variables in the DataFrame.\n",
        "\n",
        "We also take arguments that determine the characteristics of the pairplot,\n",
        "which includes the data itself, the kind of plot, the format and appearance of the plot, etc.\n",
        "\n",
        "'''\n",
        "# Create pairplot to show all scatter plots\n",
        "sns.pairplot(df, kind=\"scatter\", plot_kws=dict(alpha=0.5, s=50), diag_kind='kde')\n",
        "\n",
        "\n",
        "'''\n",
        "Once executed, the function will displays the pairplot on the screen.\n",
        "'''"
      ],
      "metadata": {
        "id": "NgvOAnAE0BSI",
        "colab": {
          "base_uri": "https://localhost:8080/",
          "height": 531
        },
        "outputId": "794c8627-38d1-4e30-d21f-7cabb58eb874"
      },
      "execution_count": null,
      "outputs": [
        {
          "output_type": "execute_result",
          "data": {
            "text/plain": [
              "'\\nOnce executed, the function will displays the pairplot on the screen.\\n'"
            ],
            "application/vnd.google.colaboratory.intrinsic+json": {
              "type": "string"
            }
          },
          "metadata": {},
          "execution_count": 4
        },
        {
          "output_type": "display_data",
          "data": {
            "text/plain": [
              "<Figure size 500x500 with 6 Axes>"
            ],
            "image/png": "[encoded data removed]"
          },
          "metadata": {}
        }
      ]
    },
    {
      "cell_type": "code",
      "source": [
        "nltk.download()\n",
        "#step 1: type 'd' , press enter\n",
        "#step 2: type 'stopwords' , press enter\n",
        "#step 3: type 'q' , press enter"
      ],
      "metadata": {
        "colab": {
          "base_uri": "https://localhost:8080/"
        },
        "id": "CcISsrpBrhYT",
        "outputId": "5fd4ab2a-eae1-4455-ab69-0949a49362bb"
      },
      "execution_count": null,
      "outputs": [
        {
          "name": "stdout",
          "output_type": "stream",
          "text": [
            "NLTK Downloader\n",
            "---------------------------------------------------------------------------\n",
            "    d) Download   l) List    u) Update   c) Config   h) Help   q) Quit\n",
            "---------------------------------------------------------------------------\n",
            "Downloader> d\n",
            "\n",
            "Download which package (l=list; x=cancel)?\n",
            "  Identifier> stopwords\n"
          ]
        },
        {
          "output_type": "stream",
          "name": "stderr",
          "text": [
            "    Downloading package stopwords to /root/nltk_data...\n",
            "      Package stopwords is already up-to-date!\n"
          ]
        },
        {
          "name": "stdout",
          "output_type": "stream",
          "text": [
            "\n",
            "---------------------------------------------------------------------------\n",
            "    d) Download   l) List    u) Update   c) Config   h) Help   q) Quit\n",
            "---------------------------------------------------------------------------\n",
            "Downloader> q\n"
          ]
        },
        {
          "output_type": "execute_result",
          "data": {
            "text/plain": [
              "True"
            ]
          },
          "metadata": {},
          "execution_count": 5
        }
      ]
    },
    {
      "cell_type": "code",
      "source": [
        "from nltk.corpus import stopwords\n",
        "from bs4 import BeautifulSoup\n",
        "\n",
        "temp = df\n",
        "\n",
        "# FOR ---------> REVEIWS\n",
        "#converts upper case letters to lower case letters\n",
        "temp['Review'] = temp['Review'].apply(lambda x: ' '.join(x.lower() for x in str(x).split()))\n",
        "#removes common words such as (i, before, to, between, then, etc.)\n",
        "stop = stopwords.words('english')\n",
        "temp['Review']=temp['Review'].apply(lambda x: ' '.join([x for x in x.split() if x not in stop]))\n",
        "#removes numbers\n",
        "temp['Review']=temp['Review'].apply(lambda x: re.sub(r'[0-9]+', '', x))\n",
        "#removes URLs\n",
        "temp['Review']=temp['Review'].apply(lambda x: BeautifulSoup(x).get_text())\n",
        "temp['Review']=temp['Review'].apply(lambda x: re.sub(r'http\\S+', '', x))\n",
        "#removes punctuations\n",
        "temp['Review']=temp['Review'].apply(lambda x: re.sub(r'[^\\w\\s]', '', x))\n",
        "\n",
        "\n"
      ],
      "metadata": {
        "colab": {
          "base_uri": "https://localhost:8080/"
        },
        "id": "ULwqAxOGlkI1",
        "outputId": "e9de6816-9c88-4fd9-b605-61bbcfb6f11d"
      },
      "execution_count": null,
      "outputs": [
        {
          "output_type": "stream",
          "name": "stderr",
          "text": [
            "<ipython-input-6-6c42cb7cb029>:15: MarkupResemblesLocatorWarning: The input looks more like a filename than markup. You may want to open this file and pass the filehandle into Beautiful Soup.\n",
            "  temp['Review']=temp['Review'].apply(lambda x: BeautifulSoup(x).get_text())\n"
          ]
        }
      ]
    },
    {
      "cell_type": "markdown",
      "source": [
        "# **TF-IDF**"
      ],
      "metadata": {
        "id": "H5qsdTfJIxSP"
      }
    },
    {
      "cell_type": "code",
      "source": [
        "from sklearn.feature_extraction.text import TfidfVectorizer\n",
        "vectorizer= TfidfVectorizer()\n",
        "reviews_text = vectorizer.fit_transform(temp['Review'])"
      ],
      "metadata": {
        "id": "J_327u7TIzl0"
      },
      "execution_count": null,
      "outputs": []
    },
    {
      "cell_type": "code",
      "source": [
        "reviews_text"
      ],
      "metadata": {
        "id": "hI0rHifFL82n",
        "outputId": "7a866ce9-d0da-4482-aa69-655bc0e8e96d",
        "colab": {
          "base_uri": "https://localhost:8080/"
        }
      },
      "execution_count": null,
      "outputs": [
        {
          "output_type": "execute_result",
          "data": {
            "text/plain": [
              "<359052x243697 sparse matrix of type '<class 'numpy.float64'>'\n",
              "\twith 18936018 stored elements in Compressed Sparse Row format>"
            ]
          },
          "metadata": {},
          "execution_count": 8
        }
      ]
    },
    {
      "cell_type": "code",
      "source": [
        "reviews_text_array = reviews_text.toarray()"
      ],
      "metadata": {
        "id": "hQF9IXQMIlLz"
      },
      "execution_count": null,
      "outputs": []
    },
    {
      "cell_type": "code",
      "source": [
        "df.columns"
      ],
      "metadata": {
        "id": "CVGXgFI6E6ci"
      },
      "execution_count": null,
      "outputs": []
    },
    {
      "cell_type": "code",
      "source": [
        "len(df['Label'])"
      ],
      "metadata": {
        "id": "f0FGdvdtHuH1"
      },
      "execution_count": null,
      "outputs": []
    },
    {
      "cell_type": "code",
      "source": [
        "train_X,test_X,train_y,test_y = train_test_split(reviews_text_array,df['Label'], train_size=0.9, random_state=21)  # Split Data"
      ],
      "metadata": {
        "id": "fjxql3Jj4neS"
      },
      "execution_count": null,
      "outputs": []
    },
    {
      "cell_type": "markdown",
      "source": [
        "# **NeuralNets**"
      ],
      "metadata": {
        "id": "3_OShLa_8sbk"
      }
    },
    {
      "cell_type": "code",
      "source": [
        "from keras.models import Sequential\n",
        "from keras.layers import Dense"
      ],
      "metadata": {
        "id": "qCAfAGem8vdP"
      },
      "execution_count": null,
      "outputs": []
    },
    {
      "cell_type": "code",
      "source": [
        "model = Sequential()\n",
        "model.add(Dense(units = 5000, activation = 'relu'))\n",
        "model.add(Dense(units = 128, activation = 'relu'))\n",
        "model.add(Dense(units = 64, activation = 'relu'))\n",
        "model.add(Dense(units = 1, activation = 'sigmoid'))"
      ],
      "metadata": {
        "id": "BFECDVVm-D4a"
      },
      "execution_count": null,
      "outputs": []
    },
    {
      "cell_type": "code",
      "source": [
        "model.compile(optimizer='SGD',loss='binary_crossentropy')"
      ],
      "metadata": {
        "id": "M2vdTyz0ALgh"
      },
      "execution_count": null,
      "outputs": []
    },
    {
      "cell_type": "code",
      "source": [
        "#history = model.fit(train_X, train_y, epochs=50, batch_size=1)"
      ],
      "metadata": {
        "id": "3n8R5eJvBEao"
      },
      "execution_count": null,
      "outputs": []
    }
  ]
}